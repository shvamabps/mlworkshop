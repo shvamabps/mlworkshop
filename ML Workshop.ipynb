{
 "cells": [
  {
   "attachments": {},
   "cell_type": "markdown",
   "id": "522e2a39-984d-4f3d-9ad8-c9645c8ab1f3",
   "metadata": {},
   "source": [
    "# ML Workshop Stuff\n",
    "\n",
    "- Project:\n",
    "    - Use hand gestures to up scale or downscale AWS Architecture."
   ]
  },
  {
   "cell_type": "code",
   "execution_count": 63,
   "id": "a39ffd0a-c9ab-4711-9ff5-b7eea23f14bb",
   "metadata": {},
   "outputs": [],
   "source": [
    "import cv2\n",
    "cap = cv2.VideoCapture(0)"
   ]
  },
  {
   "cell_type": "code",
   "execution_count": 64,
   "id": "a2e4aa3c-4d86-4177-9395-0db42aca58c7",
   "metadata": {
    "scrolled": true
   },
   "outputs": [],
   "source": [
    "phototwofinger = cv2.imread(\"data/images/two-finger/image-0.png\")"
   ]
  },
  {
   "cell_type": "code",
   "execution_count": 65,
   "id": "b65036e3-6c8b-40a1-904c-3326f6641b8b",
   "metadata": {},
   "outputs": [],
   "source": [
    "#  pip install cvzone, mediapipe\n",
    "from cvzone.HandTrackingModule import HandDetector"
   ]
  },
  {
   "cell_type": "code",
   "execution_count": 66,
   "id": "2a95810a",
   "metadata": {},
   "outputs": [],
   "source": [
    "detector = HandDetector(maxHands=1)"
   ]
  },
  {
   "cell_type": "code",
   "execution_count": 67,
   "id": "ca4bb9a6",
   "metadata": {
    "scrolled": true
   },
   "outputs": [],
   "source": [
    "fPhoto = detector.findHands(phototwofinger, draw=False)"
   ]
  },
  {
   "cell_type": "code",
   "execution_count": 69,
   "id": "17b6f16a",
   "metadata": {},
   "outputs": [
    {
     "name": "stdout",
     "output_type": "stream",
     "text": [
      "27\n"
     ]
    }
   ],
   "source": [
    "cv2.imshow(\"my photo\", phototwofinger)\n",
    "print(cv2.waitKey())\n",
    "cv2.destroyAllWindows()"
   ]
  },
  {
   "cell_type": "code",
   "execution_count": 70,
   "id": "92125a9e",
   "metadata": {
    "scrolled": true
   },
   "outputs": [
    {
     "name": "stdout",
     "output_type": "stream",
     "text": [
      "i know 2 finger is up\n"
     ]
    }
   ],
   "source": [
    "hand = detector.findHands(phototwofinger, draw=False)\n",
    "if hand:\n",
    "    lmList = hand[0]\n",
    "    totalFinger = detector.fingersUp(lmList)\n",
    "    if totalFinger == [0,1,1,0,0]:\n",
    "        print(\"i know 2 finger is up\")\n",
    "    elif totalFinger == [0,1,0,0,0]:\n",
    "        print(\"i know 1 finger is up\")\n",
    "    else:\n",
    "        print(\"No finger is up.\")\n",
    "        "
   ]
  },
  {
   "cell_type": "code",
   "execution_count": 1,
   "id": "23647481-19ec-4e6b-9f31-e640854f9122",
   "metadata": {},
   "outputs": [],
   "source": [
    "\n",
    "def detectHand(image, draw=False):\n",
    "    detector = HandDetector(maxHands=1)\n",
    "    hand = detector.findHands(image, draw=draw)\n",
    "    if hand:\n",
    "        lmList = hand[0]\n",
    "        totalFinger = detector.fingersUp(lmList)\n",
    "        return totalFinger\n",
    "    \n",
    "    \n",
    "    "
   ]
  },
  {
   "cell_type": "code",
   "execution_count": 2,
   "id": "54547252-2e45-430f-af1a-66ce5af53895",
   "metadata": {},
   "outputs": [],
   "source": [
    "import cv2\n",
    "cap = cv2.VideoCapture(0)\n",
    "\n",
    "def liveDetector():\n",
    "    while True:\n",
    "        status, photo = cap.read()\n",
    "        cv2.imshow(\"my photo\", photo)\n",
    "        detection = detectHand(photo)\n",
    "\n",
    "        if detection != None:\n",
    "            print(detection)\n",
    "\n",
    "        if cv2.waitKey(100) == 27:\n",
    "            break\n",
    "\n",
    "    cv2.destroyAllWindows()\n",
    "    cap.release()\n",
    "\n",
    "\n",
    "        "
   ]
  },
  {
   "cell_type": "code",
   "execution_count": 3,
   "id": "a2b78524-0162-46f8-818b-e8598a76828c",
   "metadata": {},
   "outputs": [
    {
     "ename": "NameError",
     "evalue": "name 'HandDetector' is not defined",
     "output_type": "error",
     "traceback": [
      "\u001b[1;31m---------------------------------------------------------------------------\u001b[0m",
      "\u001b[1;31mNameError\u001b[0m                                 Traceback (most recent call last)",
      "Cell \u001b[1;32mIn[3], line 1\u001b[0m\n\u001b[1;32m----> 1\u001b[0m liveDetector()\n",
      "Cell \u001b[1;32mIn[2], line 8\u001b[0m, in \u001b[0;36mliveDetector\u001b[1;34m()\u001b[0m\n\u001b[0;32m      6\u001b[0m status, photo \u001b[39m=\u001b[39m cap\u001b[39m.\u001b[39mread()\n\u001b[0;32m      7\u001b[0m cv2\u001b[39m.\u001b[39mimshow(\u001b[39m\"\u001b[39m\u001b[39mmy photo\u001b[39m\u001b[39m\"\u001b[39m, photo)\n\u001b[1;32m----> 8\u001b[0m detection \u001b[39m=\u001b[39m detectHand(photo)\n\u001b[0;32m     10\u001b[0m \u001b[39mif\u001b[39;00m detection \u001b[39m!=\u001b[39m \u001b[39mNone\u001b[39;00m:\n\u001b[0;32m     11\u001b[0m     \u001b[39mprint\u001b[39m(detection)\n",
      "Cell \u001b[1;32mIn[1], line 2\u001b[0m, in \u001b[0;36mdetectHand\u001b[1;34m(image, draw)\u001b[0m\n\u001b[0;32m      1\u001b[0m \u001b[39mdef\u001b[39;00m \u001b[39mdetectHand\u001b[39m(image, draw\u001b[39m=\u001b[39m\u001b[39mFalse\u001b[39;00m):\n\u001b[1;32m----> 2\u001b[0m     detector \u001b[39m=\u001b[39m HandDetector(maxHands\u001b[39m=\u001b[39m\u001b[39m1\u001b[39m)\n\u001b[0;32m      3\u001b[0m     hand \u001b[39m=\u001b[39m detector\u001b[39m.\u001b[39mfindHands(image, draw\u001b[39m=\u001b[39mdraw)\n\u001b[0;32m      4\u001b[0m     \u001b[39mif\u001b[39;00m hand:\n",
      "\u001b[1;31mNameError\u001b[0m: name 'HandDetector' is not defined"
     ]
    },
    {
     "ename": "",
     "evalue": "",
     "output_type": "error",
     "traceback": [
      "\u001b[1;31mThe Kernel crashed while executing code in the the current cell or a previous cell. Please review the code in the cell(s) to identify a possible cause of the failure. Click <a href='https://aka.ms/vscodeJupyterKernelCrash'>here</a> for more info. View Jupyter <a href='command:jupyter.viewOutput'>log</a> for further details."
     ]
    }
   ],
   "source": [
    "liveDetector()"
   ]
  },
  {
   "cell_type": "code",
   "execution_count": null,
   "id": "9f078cca-642b-4115-b9cc-9e000c9352c7",
   "metadata": {},
   "outputs": [],
   "source": []
  }
 ],
 "metadata": {
  "kernelspec": {
   "display_name": "Python 3 (ipykernel)",
   "language": "python",
   "name": "python3"
  },
  "language_info": {
   "codemirror_mode": {
    "name": "ipython",
    "version": 3
   },
   "file_extension": ".py",
   "mimetype": "text/x-python",
   "name": "python",
   "nbconvert_exporter": "python",
   "pygments_lexer": "ipython3",
   "version": "3.10.11"
  }
 },
 "nbformat": 4,
 "nbformat_minor": 5
}
