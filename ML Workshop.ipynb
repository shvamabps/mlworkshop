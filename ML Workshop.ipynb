{
 "cells": [
  {
   "attachments": {},
   "cell_type": "markdown",
   "id": "522e2a39-984d-4f3d-9ad8-c9645c8ab1f3",
   "metadata": {},
   "source": [
    "# ML Workshop Stuff\n",
    "\n",
    "- Project:\n",
    "    - Use hand gestures to up scale or downscale AWS Architecture."
   ]
  },
  {
   "cell_type": "code",
   "execution_count": 1,
   "id": "a39ffd0a-c9ab-4711-9ff5-b7eea23f14bb",
   "metadata": {},
   "outputs": [],
   "source": [
    "import cv2\n",
    "cap = cv2.VideoCapture(0)"
   ]
  },
  {
   "cell_type": "code",
   "execution_count": 2,
   "id": "a2e4aa3c-4d86-4177-9395-0db42aca58c7",
   "metadata": {
    "scrolled": true
   },
   "outputs": [],
   "source": [
    "phototwofinger = cv2.imread(\"data/images/two-finger/image-0.png\")"
   ]
  },
  {
   "cell_type": "code",
   "execution_count": 3,
   "id": "b65036e3-6c8b-40a1-904c-3326f6641b8b",
   "metadata": {},
   "outputs": [],
   "source": [
    "#  pip install cvzone, mediapipe\n",
    "from cvzone.HandTrackingModule import HandDetector"
   ]
  },
  {
   "cell_type": "code",
   "execution_count": 4,
   "id": "2a95810a",
   "metadata": {},
   "outputs": [],
   "source": [
    "detector = HandDetector(maxHands=1)"
   ]
  },
  {
   "cell_type": "code",
   "execution_count": 16,
   "id": "ca4bb9a6",
   "metadata": {
    "scrolled": true
   },
   "outputs": [
    {
     "data": {
      "text/plain": [
       "[]"
      ]
     },
     "execution_count": 16,
     "metadata": {},
     "output_type": "execute_result"
    }
   ],
   "source": [
    "fPhoto = detector.findHands(phototwofinger, draw=False)\n",
    "fPhoto"
   ]
  },
  {
   "cell_type": "code",
   "execution_count": 14,
   "id": "17b6f16a",
   "metadata": {},
   "outputs": [
    {
     "name": "stdout",
     "output_type": "stream",
     "text": [
      "27\n"
     ]
    }
   ],
   "source": [
    "cv2.imshow(\"my photo\", phototwofinger)\n",
    "print(cv2.waitKey())\n",
    "cv2.destroyAllWindows()"
   ]
  },
  {
   "cell_type": "code",
   "execution_count": 15,
   "id": "92125a9e",
   "metadata": {
    "scrolled": true
   },
   "outputs": [
    {
     "ename": "TypeError",
     "evalue": "list indices must be integers or slices, not str",
     "output_type": "error",
     "traceback": [
      "\u001b[1;31m---------------------------------------------------------------------------\u001b[0m",
      "\u001b[1;31mTypeError\u001b[0m                                 Traceback (most recent call last)",
      "Cell \u001b[1;32mIn[15], line 4\u001b[0m\n\u001b[0;32m      2\u001b[0m \u001b[39mif\u001b[39;00m fPhoto:\n\u001b[0;32m      3\u001b[0m     lmList \u001b[39m=\u001b[39m fPhoto[\u001b[39m0\u001b[39m]\n\u001b[1;32m----> 4\u001b[0m     totalFinger \u001b[39m=\u001b[39m detector\u001b[39m.\u001b[39;49mfingersUp(lmList)\n\u001b[0;32m      5\u001b[0m     \u001b[39mif\u001b[39;00m totalFinger \u001b[39m==\u001b[39m [\u001b[39m0\u001b[39m,\u001b[39m1\u001b[39m,\u001b[39m1\u001b[39m,\u001b[39m0\u001b[39m,\u001b[39m0\u001b[39m]:\n\u001b[0;32m      6\u001b[0m         \u001b[39mprint\u001b[39m(\u001b[39m\"\u001b[39m\u001b[39mi know 2 finger is up\u001b[39m\u001b[39m\"\u001b[39m)\n",
      "File \u001b[1;32mc:\\Users\\shiva\\OneDrive\\Desktop\\MLWorkshop\\venv\\lib\\site-packages\\cvzone\\HandTrackingModule.py:106\u001b[0m, in \u001b[0;36mHandDetector.fingersUp\u001b[1;34m(self, myHand)\u001b[0m\n\u001b[0;32m    100\u001b[0m \u001b[39mdef\u001b[39;00m \u001b[39mfingersUp\u001b[39m(\u001b[39mself\u001b[39m, myHand):\n\u001b[0;32m    101\u001b[0m \u001b[39m    \u001b[39m\u001b[39m\"\"\"\u001b[39;00m\n\u001b[0;32m    102\u001b[0m \u001b[39m    Finds how many fingers are open and returns in a list.\u001b[39;00m\n\u001b[0;32m    103\u001b[0m \u001b[39m    Considers left and right hands separately\u001b[39;00m\n\u001b[0;32m    104\u001b[0m \u001b[39m    :return: List of which fingers are up\u001b[39;00m\n\u001b[0;32m    105\u001b[0m \u001b[39m    \"\"\"\u001b[39;00m\n\u001b[1;32m--> 106\u001b[0m     myHandType \u001b[39m=\u001b[39m myHand[\u001b[39m\"\u001b[39;49m\u001b[39mtype\u001b[39;49m\u001b[39m\"\u001b[39;49m]\n\u001b[0;32m    107\u001b[0m     myLmList \u001b[39m=\u001b[39m myHand[\u001b[39m\"\u001b[39m\u001b[39mlmList\u001b[39m\u001b[39m\"\u001b[39m]\n\u001b[0;32m    108\u001b[0m     \u001b[39mif\u001b[39;00m \u001b[39mself\u001b[39m\u001b[39m.\u001b[39mresults\u001b[39m.\u001b[39mmulti_hand_landmarks:\n",
      "\u001b[1;31mTypeError\u001b[0m: list indices must be integers or slices, not str"
     ]
    }
   ],
   "source": [
    "hand = detector.findHands(phototwofinger, draw=False)\n",
    "if fPhoto:\n",
    "    lmList = fPhoto[0]\n",
    "    totalFinger = detector.fingersUp(lmList)\n",
    "    if totalFinger == [0,1,1,0,0]:\n",
    "        print(\"i know 2 finger is up\")\n",
    "    elif totalFinger == [0,1,0,0,0]:\n",
    "        print(\"i know 1 finger is up\")\n",
    "    else:\n",
    "        print(\"No finger is up.\")\n",
    "        "
   ]
  },
  {
   "cell_type": "code",
   "execution_count": 114,
   "id": "901ade9b",
   "metadata": {},
   "outputs": [],
   "source": [
    "    \n",
    "import cv2\n",
    "cap = cv2.VideoCapture(0)  "
   ]
  },
  {
   "cell_type": "code",
   "execution_count": 77,
   "id": "4df87941",
   "metadata": {},
   "outputs": [],
   "source": [
    "import boto3"
   ]
  },
  {
   "cell_type": "code",
   "execution_count": 78,
   "id": "7294e608",
   "metadata": {},
   "outputs": [],
   "source": [
    "INSTANCE_AMI=\"ami-0a2acf24c0d86e927\"\n",
    "INSTANCE_TYPE=\"t2.micro\"\n",
    "INSTANCE_COUNT=1\n",
    "RESOURCE_TYPE=\"ec2\"\n",
    "REGION=\"ap-south-1\"\n",
    "SECURITY_GROUP_ID=\"sg-07c97700945cbdfa0\""
   ]
  },
  {
   "cell_type": "code",
   "execution_count": 95,
   "id": "801437a7",
   "metadata": {},
   "outputs": [],
   "source": [
    "ec2 = boto3.resource(RESOURCE_TYPE,REGION)"
   ]
  },
  {
   "cell_type": "code",
   "execution_count": 96,
   "id": "a55da956",
   "metadata": {},
   "outputs": [],
   "source": [
    "allOs=[]"
   ]
  },
  {
   "cell_type": "code",
   "execution_count": 97,
   "id": "c58d0e40",
   "metadata": {},
   "outputs": [],
   "source": [
    "def launchEC2Instance():\n",
    "    instance = ec2.create_instances(\n",
    "        ImageId=INSTANCE_AMI,\n",
    "        MinCount=INSTANCE_COUNT,\n",
    "        MaxCount=INSTANCE_COUNT,\n",
    "        InstanceType=INSTANCE_TYPE,\n",
    "        SecurityGroupIds=[SECURITY_GROUP_ID]\n",
    "    )\n",
    "    instance_id = instance[0].id\n",
    "    allOs.append(instance_id)\n",
    "    print(\"Total number instances launched: \",len(allOs))\n",
    "    return instance_id"
   ]
  },
  {
   "cell_type": "code",
   "execution_count": null,
   "id": "a52f6f0e",
   "metadata": {},
   "outputs": [],
   "source": [
    "def removeEC2Instance():\n",
    "    osremove = allOs.pop()\n",
    "    ec2.instances.filter(InstanceIds=[osremove]).terminate()\n",
    "    print(\"Total number of os: \", len(allOs))"
   ]
  },
  {
   "cell_type": "code",
   "execution_count": 113,
   "id": "23647481-19ec-4e6b-9f31-e640854f9122",
   "metadata": {},
   "outputs": [],
   "source": [
    "\n",
    "def detectHand(image, draw=False):\n",
    "    detector = HandDetector(maxHands=1)\n",
    "    hand = detector.findHands(image, draw=draw)\n",
    "    if hand:\n",
    "        lmList = hand[0]\n",
    "        totalFinger = detector.fingersUp(lmList)\n",
    "        if totalFinger == [0,1,1,0,0]:\n",
    "            print(\"Two fingers detected.\")\n",
    "            launchEC2Instance()\n",
    "        elif totalFinger == [0,1,0,0,0]:\n",
    "            print(\"One fingers detected.\")\n",
    "            removeEC2Instance()\n",
    "        else:\n",
    "            print(\"No fingers detected.\")\n",
    "        return totalFinger\n",
    "    \n",
    "  "
   ]
  },
  {
   "cell_type": "code",
   "execution_count": 115,
   "id": "54547252-2e45-430f-af1a-66ce5af53895",
   "metadata": {},
   "outputs": [],
   "source": [
    "def liveDetector():\n",
    "    while True:\n",
    "        status, photo = cap.read()\n",
    "\n",
    "        detectHand(photo)\n",
    "        cv2.imshow(\"my photo\", photo)\n",
    "    \n",
    "        if cv2.waitKey(1000) ==13:\n",
    "            break\n",
    "    cv2.destroyAllWindows()"
   ]
  },
  {
   "cell_type": "code",
   "execution_count": 116,
   "id": "58997768",
   "metadata": {},
   "outputs": [
    {
     "name": "stdout",
     "output_type": "stream",
     "text": [
      "No fingers detected.\n",
      "One fingers detected.\n"
     ]
    },
    {
     "ename": "ParamValidationError",
     "evalue": "Parameter validation failed:\nUnknown parameter in input: \"InstanceId\", must be one of: Filters, InstanceIds, DryRun, MaxResults, NextToken",
     "output_type": "error",
     "traceback": [
      "\u001b[1;31m---------------------------------------------------------------------------\u001b[0m",
      "\u001b[1;31mParamValidationError\u001b[0m                      Traceback (most recent call last)",
      "Cell \u001b[1;32mIn[116], line 1\u001b[0m\n\u001b[1;32m----> 1\u001b[0m liveDetector()\n",
      "Cell \u001b[1;32mIn[115], line 5\u001b[0m, in \u001b[0;36mliveDetector\u001b[1;34m()\u001b[0m\n\u001b[0;32m      2\u001b[0m \u001b[39mwhile\u001b[39;00m \u001b[39mTrue\u001b[39;00m:\n\u001b[0;32m      3\u001b[0m     status, photo \u001b[39m=\u001b[39m cap\u001b[39m.\u001b[39mread()\n\u001b[1;32m----> 5\u001b[0m     detectHand(photo)\n\u001b[0;32m      6\u001b[0m     cv2\u001b[39m.\u001b[39mimshow(\u001b[39m\"\u001b[39m\u001b[39mmy photo\u001b[39m\u001b[39m\"\u001b[39m, photo)\n\u001b[0;32m      8\u001b[0m     \u001b[39mif\u001b[39;00m cv2\u001b[39m.\u001b[39mwaitKey(\u001b[39m1000\u001b[39m) \u001b[39m==\u001b[39m\u001b[39m13\u001b[39m:\n",
      "Cell \u001b[1;32mIn[113], line 12\u001b[0m, in \u001b[0;36mdetectHand\u001b[1;34m(image, draw)\u001b[0m\n\u001b[0;32m     10\u001b[0m \u001b[39melif\u001b[39;00m totalFinger \u001b[39m==\u001b[39m [\u001b[39m0\u001b[39m,\u001b[39m1\u001b[39m,\u001b[39m0\u001b[39m,\u001b[39m0\u001b[39m,\u001b[39m0\u001b[39m]:\n\u001b[0;32m     11\u001b[0m     \u001b[39mprint\u001b[39m(\u001b[39m\"\u001b[39m\u001b[39mOne fingers detected.\u001b[39m\u001b[39m\"\u001b[39m)\n\u001b[1;32m---> 12\u001b[0m     removeEC2Instance()\n\u001b[0;32m     13\u001b[0m \u001b[39melse\u001b[39;00m:\n\u001b[0;32m     14\u001b[0m     \u001b[39mprint\u001b[39m(\u001b[39m\"\u001b[39m\u001b[39mNo fingers detected.\u001b[39m\u001b[39m\"\u001b[39m)\n",
      "Cell \u001b[1;32mIn[99], line 3\u001b[0m, in \u001b[0;36mremoveEC2Instance\u001b[1;34m()\u001b[0m\n\u001b[0;32m      1\u001b[0m \u001b[39mdef\u001b[39;00m \u001b[39mremoveEC2Instance\u001b[39m():\n\u001b[0;32m      2\u001b[0m     osremove \u001b[39m=\u001b[39m allOs\u001b[39m.\u001b[39mpop()\n\u001b[1;32m----> 3\u001b[0m     ec2\u001b[39m.\u001b[39;49minstances\u001b[39m.\u001b[39;49mfilter(InstanceId\u001b[39m=\u001b[39;49m[osremove])\u001b[39m.\u001b[39;49mterminate()\n\u001b[0;32m      4\u001b[0m     \u001b[39mprint\u001b[39m(\u001b[39m\"\u001b[39m\u001b[39mTotal number of os: \u001b[39m\u001b[39m\"\u001b[39m, \u001b[39mlen\u001b[39m(allOs))\n",
      "File \u001b[1;32mc:\\Users\\shiva\\OneDrive\\Desktop\\MLWorkshop\\venv\\lib\\site-packages\\boto3\\resources\\collection.py:561\u001b[0m, in \u001b[0;36mCollectionFactory._create_batch_action.<locals>.batch_action\u001b[1;34m(self, *args, **kwargs)\u001b[0m\n\u001b[0;32m    560\u001b[0m \u001b[39mdef\u001b[39;00m \u001b[39mbatch_action\u001b[39m(\u001b[39mself\u001b[39m, \u001b[39m*\u001b[39margs, \u001b[39m*\u001b[39m\u001b[39m*\u001b[39mkwargs):\n\u001b[1;32m--> 561\u001b[0m     \u001b[39mreturn\u001b[39;00m action(\u001b[39mself\u001b[39m, \u001b[39m*\u001b[39margs, \u001b[39m*\u001b[39m\u001b[39m*\u001b[39mkwargs)\n",
      "File \u001b[1;32mc:\\Users\\shiva\\OneDrive\\Desktop\\MLWorkshop\\venv\\lib\\site-packages\\boto3\\resources\\action.py:134\u001b[0m, in \u001b[0;36mBatchAction.__call__\u001b[1;34m(self, parent, *args, **kwargs)\u001b[0m\n\u001b[0;32m    129\u001b[0m operation_name \u001b[39m=\u001b[39m xform_name(\u001b[39mself\u001b[39m\u001b[39m.\u001b[39m_action_model\u001b[39m.\u001b[39mrequest\u001b[39m.\u001b[39moperation)\n\u001b[0;32m    131\u001b[0m \u001b[39m# Unlike the simple action above, a batch action must operate\u001b[39;00m\n\u001b[0;32m    132\u001b[0m \u001b[39m# on batches (or pages) of items. So we get each page, construct\u001b[39;00m\n\u001b[0;32m    133\u001b[0m \u001b[39m# the necessary parameters and call the batch operation.\u001b[39;00m\n\u001b[1;32m--> 134\u001b[0m \u001b[39mfor\u001b[39;00m page \u001b[39min\u001b[39;00m parent\u001b[39m.\u001b[39mpages():\n\u001b[0;32m    135\u001b[0m     params \u001b[39m=\u001b[39m {}\n\u001b[0;32m    136\u001b[0m     \u001b[39mfor\u001b[39;00m index, resource \u001b[39min\u001b[39;00m \u001b[39menumerate\u001b[39m(page):\n\u001b[0;32m    137\u001b[0m         \u001b[39m# There is no public interface to get a service name\u001b[39;00m\n\u001b[0;32m    138\u001b[0m         \u001b[39m# or low-level client from a collection, so we get\u001b[39;00m\n\u001b[0;32m    139\u001b[0m         \u001b[39m# these from the first resource in the collection.\u001b[39;00m\n",
      "File \u001b[1;32mc:\\Users\\shiva\\OneDrive\\Desktop\\MLWorkshop\\venv\\lib\\site-packages\\boto3\\resources\\collection.py:171\u001b[0m, in \u001b[0;36mResourceCollection.pages\u001b[1;34m(self)\u001b[0m\n\u001b[0;32m    168\u001b[0m \u001b[39m# Now that we have a page iterator or single page of results\u001b[39;00m\n\u001b[0;32m    169\u001b[0m \u001b[39m# we start processing and yielding individual items.\u001b[39;00m\n\u001b[0;32m    170\u001b[0m count \u001b[39m=\u001b[39m \u001b[39m0\u001b[39m\n\u001b[1;32m--> 171\u001b[0m \u001b[39mfor\u001b[39;00m page \u001b[39min\u001b[39;00m pages:\n\u001b[0;32m    172\u001b[0m     page_items \u001b[39m=\u001b[39m []\n\u001b[0;32m    173\u001b[0m     \u001b[39mfor\u001b[39;00m item \u001b[39min\u001b[39;00m \u001b[39mself\u001b[39m\u001b[39m.\u001b[39m_handler(\u001b[39mself\u001b[39m\u001b[39m.\u001b[39m_parent, params, page):\n",
      "File \u001b[1;32mc:\\Users\\shiva\\OneDrive\\Desktop\\MLWorkshop\\venv\\lib\\site-packages\\botocore\\paginate.py:269\u001b[0m, in \u001b[0;36mPageIterator.__iter__\u001b[1;34m(self)\u001b[0m\n\u001b[0;32m    267\u001b[0m \u001b[39mself\u001b[39m\u001b[39m.\u001b[39m_inject_starting_params(current_kwargs)\n\u001b[0;32m    268\u001b[0m \u001b[39mwhile\u001b[39;00m \u001b[39mTrue\u001b[39;00m:\n\u001b[1;32m--> 269\u001b[0m     response \u001b[39m=\u001b[39m \u001b[39mself\u001b[39;49m\u001b[39m.\u001b[39;49m_make_request(current_kwargs)\n\u001b[0;32m    270\u001b[0m     parsed \u001b[39m=\u001b[39m \u001b[39mself\u001b[39m\u001b[39m.\u001b[39m_extract_parsed_response(response)\n\u001b[0;32m    271\u001b[0m     \u001b[39mif\u001b[39;00m first_request:\n\u001b[0;32m    272\u001b[0m         \u001b[39m# The first request is handled differently.  We could\u001b[39;00m\n\u001b[0;32m    273\u001b[0m         \u001b[39m# possibly have a resume/starting token that tells us where\u001b[39;00m\n\u001b[0;32m    274\u001b[0m         \u001b[39m# to index into the retrieved page.\u001b[39;00m\n",
      "File \u001b[1;32mc:\\Users\\shiva\\OneDrive\\Desktop\\MLWorkshop\\venv\\lib\\site-packages\\botocore\\paginate.py:357\u001b[0m, in \u001b[0;36mPageIterator._make_request\u001b[1;34m(self, current_kwargs)\u001b[0m\n\u001b[0;32m    356\u001b[0m \u001b[39mdef\u001b[39;00m \u001b[39m_make_request\u001b[39m(\u001b[39mself\u001b[39m, current_kwargs):\n\u001b[1;32m--> 357\u001b[0m     \u001b[39mreturn\u001b[39;00m \u001b[39mself\u001b[39m\u001b[39m.\u001b[39m_method(\u001b[39m*\u001b[39m\u001b[39m*\u001b[39mcurrent_kwargs)\n",
      "File \u001b[1;32mc:\\Users\\shiva\\OneDrive\\Desktop\\MLWorkshop\\venv\\lib\\site-packages\\botocore\\client.py:530\u001b[0m, in \u001b[0;36mClientCreator._create_api_method.<locals>._api_call\u001b[1;34m(self, *args, **kwargs)\u001b[0m\n\u001b[0;32m    526\u001b[0m     \u001b[39mraise\u001b[39;00m \u001b[39mTypeError\u001b[39;00m(\n\u001b[0;32m    527\u001b[0m         \u001b[39mf\u001b[39m\u001b[39m\"\u001b[39m\u001b[39m{\u001b[39;00mpy_operation_name\u001b[39m}\u001b[39;00m\u001b[39m() only accepts keyword arguments.\u001b[39m\u001b[39m\"\u001b[39m\n\u001b[0;32m    528\u001b[0m     )\n\u001b[0;32m    529\u001b[0m \u001b[39m# The \"self\" in this scope is referring to the BaseClient.\u001b[39;00m\n\u001b[1;32m--> 530\u001b[0m \u001b[39mreturn\u001b[39;00m \u001b[39mself\u001b[39;49m\u001b[39m.\u001b[39;49m_make_api_call(operation_name, kwargs)\n",
      "File \u001b[1;32mc:\\Users\\shiva\\OneDrive\\Desktop\\MLWorkshop\\venv\\lib\\site-packages\\botocore\\client.py:923\u001b[0m, in \u001b[0;36mBaseClient._make_api_call\u001b[1;34m(self, operation_name, api_params)\u001b[0m\n\u001b[0;32m    915\u001b[0m api_params \u001b[39m=\u001b[39m \u001b[39mself\u001b[39m\u001b[39m.\u001b[39m_emit_api_params(\n\u001b[0;32m    916\u001b[0m     api_params\u001b[39m=\u001b[39mapi_params,\n\u001b[0;32m    917\u001b[0m     operation_model\u001b[39m=\u001b[39moperation_model,\n\u001b[0;32m    918\u001b[0m     context\u001b[39m=\u001b[39mrequest_context,\n\u001b[0;32m    919\u001b[0m )\n\u001b[0;32m    920\u001b[0m endpoint_url, additional_headers \u001b[39m=\u001b[39m \u001b[39mself\u001b[39m\u001b[39m.\u001b[39m_resolve_endpoint_ruleset(\n\u001b[0;32m    921\u001b[0m     operation_model, api_params, request_context\n\u001b[0;32m    922\u001b[0m )\n\u001b[1;32m--> 923\u001b[0m request_dict \u001b[39m=\u001b[39m \u001b[39mself\u001b[39;49m\u001b[39m.\u001b[39;49m_convert_to_request_dict(\n\u001b[0;32m    924\u001b[0m     api_params\u001b[39m=\u001b[39;49mapi_params,\n\u001b[0;32m    925\u001b[0m     operation_model\u001b[39m=\u001b[39;49moperation_model,\n\u001b[0;32m    926\u001b[0m     endpoint_url\u001b[39m=\u001b[39;49mendpoint_url,\n\u001b[0;32m    927\u001b[0m     context\u001b[39m=\u001b[39;49mrequest_context,\n\u001b[0;32m    928\u001b[0m     headers\u001b[39m=\u001b[39;49madditional_headers,\n\u001b[0;32m    929\u001b[0m )\n\u001b[0;32m    930\u001b[0m resolve_checksum_context(request_dict, operation_model, api_params)\n\u001b[0;32m    932\u001b[0m service_id \u001b[39m=\u001b[39m \u001b[39mself\u001b[39m\u001b[39m.\u001b[39m_service_model\u001b[39m.\u001b[39mservice_id\u001b[39m.\u001b[39mhyphenize()\n",
      "File \u001b[1;32mc:\\Users\\shiva\\OneDrive\\Desktop\\MLWorkshop\\venv\\lib\\site-packages\\botocore\\client.py:991\u001b[0m, in \u001b[0;36mBaseClient._convert_to_request_dict\u001b[1;34m(self, api_params, operation_model, endpoint_url, context, headers, set_user_agent_header)\u001b[0m\n\u001b[0;32m    982\u001b[0m \u001b[39mdef\u001b[39;00m \u001b[39m_convert_to_request_dict\u001b[39m(\n\u001b[0;32m    983\u001b[0m     \u001b[39mself\u001b[39m,\n\u001b[0;32m    984\u001b[0m     api_params,\n\u001b[1;32m   (...)\u001b[0m\n\u001b[0;32m    989\u001b[0m     set_user_agent_header\u001b[39m=\u001b[39m\u001b[39mTrue\u001b[39;00m,\n\u001b[0;32m    990\u001b[0m ):\n\u001b[1;32m--> 991\u001b[0m     request_dict \u001b[39m=\u001b[39m \u001b[39mself\u001b[39;49m\u001b[39m.\u001b[39;49m_serializer\u001b[39m.\u001b[39;49mserialize_to_request(\n\u001b[0;32m    992\u001b[0m         api_params, operation_model\n\u001b[0;32m    993\u001b[0m     )\n\u001b[0;32m    994\u001b[0m     \u001b[39mif\u001b[39;00m \u001b[39mnot\u001b[39;00m \u001b[39mself\u001b[39m\u001b[39m.\u001b[39m_client_config\u001b[39m.\u001b[39minject_host_prefix:\n\u001b[0;32m    995\u001b[0m         request_dict\u001b[39m.\u001b[39mpop(\u001b[39m'\u001b[39m\u001b[39mhost_prefix\u001b[39m\u001b[39m'\u001b[39m, \u001b[39mNone\u001b[39;00m)\n",
      "File \u001b[1;32mc:\\Users\\shiva\\OneDrive\\Desktop\\MLWorkshop\\venv\\lib\\site-packages\\botocore\\validate.py:381\u001b[0m, in \u001b[0;36mParamValidationDecorator.serialize_to_request\u001b[1;34m(self, parameters, operation_model)\u001b[0m\n\u001b[0;32m    377\u001b[0m     report \u001b[39m=\u001b[39m \u001b[39mself\u001b[39m\u001b[39m.\u001b[39m_param_validator\u001b[39m.\u001b[39mvalidate(\n\u001b[0;32m    378\u001b[0m         parameters, operation_model\u001b[39m.\u001b[39minput_shape\n\u001b[0;32m    379\u001b[0m     )\n\u001b[0;32m    380\u001b[0m     \u001b[39mif\u001b[39;00m report\u001b[39m.\u001b[39mhas_errors():\n\u001b[1;32m--> 381\u001b[0m         \u001b[39mraise\u001b[39;00m ParamValidationError(report\u001b[39m=\u001b[39mreport\u001b[39m.\u001b[39mgenerate_report())\n\u001b[0;32m    382\u001b[0m \u001b[39mreturn\u001b[39;00m \u001b[39mself\u001b[39m\u001b[39m.\u001b[39m_serializer\u001b[39m.\u001b[39mserialize_to_request(\n\u001b[0;32m    383\u001b[0m     parameters, operation_model\n\u001b[0;32m    384\u001b[0m )\n",
      "\u001b[1;31mParamValidationError\u001b[0m: Parameter validation failed:\nUnknown parameter in input: \"InstanceId\", must be one of: Filters, InstanceIds, DryRun, MaxResults, NextToken"
     ]
    },
    {
     "ename": "",
     "evalue": "",
     "output_type": "error",
     "traceback": [
      "\u001b[1;31mThe Kernel crashed while executing code in the the current cell or a previous cell. Please review the code in the cell(s) to identify a possible cause of the failure. Click <a href='https://aka.ms/vscodeJupyterKernelCrash'>here</a> for more info. View Jupyter <a href='command:jupyter.viewOutput'>log</a> for further details."
     ]
    }
   ],
   "source": [
    "liveDetector()"
   ]
  },
  {
   "cell_type": "code",
   "execution_count": 102,
   "id": "676a8810",
   "metadata": {},
   "outputs": [
    {
     "data": {
      "text/plain": [
       "[]"
      ]
     },
     "execution_count": 102,
     "metadata": {},
     "output_type": "execute_result"
    }
   ],
   "source": [
    "allOs"
   ]
  },
  {
   "cell_type": "code",
   "execution_count": 1,
   "id": "d8962293",
   "metadata": {},
   "outputs": [
    {
     "ename": "NameError",
     "evalue": "name 'cap' is not defined",
     "output_type": "error",
     "traceback": [
      "\u001b[1;31m---------------------------------------------------------------------------\u001b[0m",
      "\u001b[1;31mNameError\u001b[0m                                 Traceback (most recent call last)",
      "Cell \u001b[1;32mIn[1], line 1\u001b[0m\n\u001b[1;32m----> 1\u001b[0m cap\u001b[39m.\u001b[39mrelease()\n",
      "\u001b[1;31mNameError\u001b[0m: name 'cap' is not defined"
     ]
    }
   ],
   "source": [
    "cap.release()"
   ]
  },
  {
   "cell_type": "code",
   "execution_count": null,
   "id": "2ec299b7",
   "metadata": {},
   "outputs": [],
   "source": []
  }
 ],
 "metadata": {
  "kernelspec": {
   "display_name": "Python 3 (ipykernel)",
   "language": "python",
   "name": "python3"
  },
  "language_info": {
   "codemirror_mode": {
    "name": "ipython",
    "version": 3
   },
   "file_extension": ".py",
   "mimetype": "text/x-python",
   "name": "python",
   "nbconvert_exporter": "python",
   "pygments_lexer": "ipython3",
   "version": "3.10.11"
  }
 },
 "nbformat": 4,
 "nbformat_minor": 5
}
