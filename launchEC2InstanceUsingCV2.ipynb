{
 "cells": [
  {
   "cell_type": "code",
   "execution_count": 3,
   "metadata": {},
   "outputs": [],
   "source": [
    "import cv2"
   ]
  },
  {
   "cell_type": "code",
   "execution_count": 4,
   "metadata": {},
   "outputs": [],
   "source": [
    "cap = cv2.VideoCapture(0)  "
   ]
  },
  {
   "cell_type": "code",
   "execution_count": 5,
   "metadata": {},
   "outputs": [],
   "source": [
    "import boto3"
   ]
  },
  {
   "cell_type": "code",
   "execution_count": 6,
   "metadata": {},
   "outputs": [],
   "source": [
    "INSTANCE_AMI=\"ami-0a2acf24c0d86e927\"\n",
    "INSTANCE_TYPE=\"t2.micro\"\n",
    "INSTANCE_COUNT=1\n",
    "RESOURCE_TYPE=\"ec2\"\n",
    "REGION=\"ap-south-1\"\n",
    "SECURITY_GROUP_ID=\"sg-07c97700945cbdfa0\""
   ]
  },
  {
   "cell_type": "code",
   "execution_count": 7,
   "metadata": {},
   "outputs": [],
   "source": [
    "ec2 = boto3.resource(RESOURCE_TYPE,REGION)"
   ]
  },
  {
   "cell_type": "code",
   "execution_count": 20,
   "metadata": {},
   "outputs": [],
   "source": [
    "allOs=[]"
   ]
  },
  {
   "cell_type": "code",
   "execution_count": 9,
   "metadata": {},
   "outputs": [],
   "source": [
    "def launchEC2Instance():\n",
    "    instance = ec2.create_instances(\n",
    "        ImageId=INSTANCE_AMI,\n",
    "        MinCount=INSTANCE_COUNT,\n",
    "        MaxCount=INSTANCE_COUNT,\n",
    "        InstanceType=INSTANCE_TYPE,\n",
    "        SecurityGroupIds=[SECURITY_GROUP_ID]\n",
    "    )\n",
    "    instance_id = instance[0].id\n",
    "    allOs.append(instance_id)\n",
    "    print(f\"Instance Id of started ec2 instance: {instance_id}\",end=\"\\n\")\n",
    "    print(f\"Total number instances launched: {len(allOs)}\",end=\"\\n\")\n",
    "    return instance_id"
   ]
  },
  {
   "cell_type": "code",
   "execution_count": 10,
   "metadata": {},
   "outputs": [],
   "source": [
    "def removeEC2Instance():\n",
    "    osremove = allOs.pop()\n",
    "    ec2.instances.filter(InstanceIds=[osremove]).terminate()\n",
    "    print(f\"Instance Id deleted: {osremove}\",end=\"\\n\")\n",
    "    print(f\"Total number of os: {len(allOs)}\",end=\"\\n\")"
   ]
  },
  {
   "cell_type": "code",
   "execution_count": 11,
   "metadata": {},
   "outputs": [],
   "source": [
    "#  pip install cvzone, mediapipe\n",
    "from cvzone.HandTrackingModule import HandDetector"
   ]
  },
  {
   "cell_type": "code",
   "execution_count": 12,
   "metadata": {},
   "outputs": [],
   "source": [
    "detector = HandDetector(maxHands=1)"
   ]
  },
  {
   "cell_type": "code",
   "execution_count": 13,
   "metadata": {},
   "outputs": [],
   "source": [
    "\n",
    "def detectHand(image, draw=False):\n",
    "    detector = HandDetector(maxHands=1)\n",
    "    hand = detector.findHands(image, draw=draw)\n",
    "    if hand:\n",
    "        lmList = hand[0]\n",
    "        totalFinger = detector.fingersUp(lmList)\n",
    "        if totalFinger == [0,1,1,0,0]:\n",
    "            print(\"Two fingers detected.\", end=\"\\n\")\n",
    "            launchEC2Instance()\n",
    "        elif totalFinger == [0,1,0,0,0]:\n",
    "            print(\"One fingers detected.\", end=\"\\n\")\n",
    "            removeEC2Instance()\n",
    "        else:\n",
    "            print(\"No fingers detected.\", end=\"\\n\")\n",
    "        return totalFinger\n",
    "    \n",
    "  "
   ]
  },
  {
   "cell_type": "code",
   "execution_count": 14,
   "metadata": {},
   "outputs": [],
   "source": [
    "def liveDetector():\n",
    "    while True:\n",
    "        status, photo = cap.read()\n",
    "\n",
    "        detectHand(photo)\n",
    "\n",
    "        cv2.imshow(\"my photo\", photo)\n",
    "    \n",
    "        if cv2.waitKey(1000) == 13:\n",
    "            break\n",
    "    cv2.destroyAllWindows()"
   ]
  },
  {
   "cell_type": "code",
   "execution_count": 19,
   "metadata": {},
   "outputs": [],
   "source": [
    "# Only after the all the work is done\n",
    "# cap.release()"
   ]
  },
  {
   "cell_type": "code",
   "execution_count": 16,
   "metadata": {},
   "outputs": [
    {
     "name": "stdout",
     "output_type": "stream",
     "text": [
      "No fingers detected.\n"
     ]
    }
   ],
   "source": [
    "liveDetector()"
   ]
  }
 ],
 "metadata": {
  "kernelspec": {
   "display_name": "venv",
   "language": "python",
   "name": "python3"
  },
  "language_info": {
   "codemirror_mode": {
    "name": "ipython",
    "version": 3
   },
   "file_extension": ".py",
   "mimetype": "text/x-python",
   "name": "python",
   "nbconvert_exporter": "python",
   "pygments_lexer": "ipython3",
   "version": "3.10.11"
  },
  "orig_nbformat": 4
 },
 "nbformat": 4,
 "nbformat_minor": 2
}
